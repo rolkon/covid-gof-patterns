{
 "cells": [
  {
   "cell_type": "markdown",
   "metadata": {},
   "source": [
    "# Observable interface"
   ]
  },
  {
   "cell_type": "code",
   "execution_count": null,
   "metadata": {},
   "outputs": [],
   "source": [
    "from abc import ABC, abstractmethod\n",
    "\n",
    "class Observable(ABC):\n",
    "    @abstractmethod\n",
    "    def attach(self, observer: Observer):\n",
    "        pass\n",
    "    \n",
    "    @abstractmethod\n",
    "    def detach(self, observer: Observer):\n",
    "        pass\n",
    "    \n",
    "    @abstractmethod\n",
    "    def notify(self):\n",
    "        pass"
   ]
  },
  {
   "cell_type": "markdown",
   "metadata": {},
   "source": [
    "# Person, Viruses and States"
   ]
  },
  {
   "cell_type": "code",
   "execution_count": 444,
   "metadata": {},
   "outputs": [],
   "source": [
    "class Person(Observable):\n",
    "    MAX_TEMPERATURE_TO_SURVIVE = 44.0\n",
    "    LOWEST_WATER_PCT_TO_SURVIVE = 0.4\n",
    "    \n",
    "    LIFE_THREATENING_TEMPERATURE = 40.0\n",
    "    LIFE_THREATENING_WATER_PCT = 0.5\n",
    "    \n",
    "    def __init__(self, home_position=(0, 0), age=30, weight=70):\n",
    "        self.virus = None\n",
    "        self.antibody_types = set()\n",
    "        self.temperature = 36.6\n",
    "        self.weight = weight\n",
    "        self.water = 0.6 * self.weight\n",
    "        self.age = age\n",
    "        self.home_position = home_position\n",
    "        self.position = home_position\n",
    "        self.state = Healthy(self)\n",
    "        self._observers = []\n",
    "        self.recovered = False\n",
    "    \n",
    "    def day_actions(self):\n",
    "        self.state.day_actions()\n",
    "\n",
    "    def night_actions(self):\n",
    "        self.state.night_actions()\n",
    "\n",
    "    def interact(self, other):\n",
    "        self.state.interact(other)\n",
    "\n",
    "    def get_infected(self, virus):\n",
    "        self.state.get_infected(virus)\n",
    "    \n",
    "    def is_close_to(self, other):\n",
    "        return self.position == other.position\n",
    "    \n",
    "    def fightvirus(self):\n",
    "        if self.virus:\n",
    "            self.virus.strength -= (3.0 / self.age)\n",
    "        \n",
    "    def progress_disease(self):\n",
    "        if self.virus:\n",
    "            self.virus.cause_symptoms(self)\n",
    "\n",
    "    def set_state(self, state):\n",
    "        self.state = state\n",
    "        self.notify()\n",
    "    \n",
    "    def is_life_threatening_condition(self):\n",
    "        return self.temperature >= Person.LIFE_THREATENING_TEMPERATURE or \\\n",
    "            self.water / self.weight <= Person.LIFE_THREATENING_WATER_PCT\n",
    "    \n",
    "    def is_life_incompatible_condition(self):        \n",
    "        return self.temperature >= Person.MAX_TEMPERATURE_TO_SURVIVE or \\\n",
    "            self.water / self.weight <= Person.LOWEST_WATER_PCT_TO_SURVIVE\n",
    "        \n",
    "    def attach(self, observer: Observer):\n",
    "        self._observers.append(observer)\n",
    "    \n",
    "    def detach(self, observer: Observer):\n",
    "        self._observers.remove(observer)\n",
    "        \n",
    "    def notify(self):\n",
    "        for observer in self._observers:\n",
    "            observer.update(self)"
   ]
  },
  {
   "cell_type": "code",
   "execution_count": 445,
   "metadata": {},
   "outputs": [],
   "source": [
    "from enum import Enum\n",
    "from random import expovariate, uniform, randint\n",
    "\n",
    "class Infectable(ABC):\n",
    "    def __init__(self, strength=1.0, contag=1.0):\n",
    "        # contag is for contagiousness so we have less typos\n",
    "        self.strength = strength\n",
    "        self.contag = contag\n",
    "\n",
    "    @abstractmethod\n",
    "    def cause_symptoms(self, person):\n",
    "        pass\n",
    "    \n",
    "    \n",
    "class SeasonalFluVirus(Infectable):\n",
    "    def cause_symptoms(self, person):\n",
    "        person.temperature += 0.25\n",
    "\n",
    "    def get_type(self):\n",
    "        return InfectableType.SeasonalFlu\n",
    "    \n",
    "    \n",
    "class SARSCoV2(Infectable):\n",
    "    def cause_symptoms(self, person):\n",
    "        person.temperature += 0.5\n",
    "\n",
    "    def get_type(self):\n",
    "        return InfectableType.SARSCoV2\n",
    "\n",
    "\n",
    "class Cholera(Infectable):\n",
    "    def cause_symptoms(self, person):\n",
    "        person.water -= 1.0\n",
    "\n",
    "    def get_type(self):\n",
    "        return InfectableType.Cholera\n",
    "    \n",
    "\n",
    "class InfectableType(Enum):\n",
    "    SeasonalFlu = 1\n",
    "    SARSCoV2 = 2\n",
    "    Cholera = 3\n",
    "\n",
    "    \n",
    "def get_infectable(infectable_type: InfectableType):\n",
    "    if InfectableType.SeasonalFlu == infectable_type:\n",
    "        return SeasonalFluVirus(strength=expovariate(10.0), contag=expovariate(10.0))\n",
    "    \n",
    "    elif InfectableType.SARSCoV2 == infectable_type:\n",
    "        return SARSCoV2(strength=expovariate(2.0), contag=expovariate(2.0))\n",
    "    \n",
    "    elif InfectableType.Cholera == infectable_type:\n",
    "        return Cholera(strength=expovariate(2.0), contag=expovariate(2.0))\n",
    "    \n",
    "    else:\n",
    "        raise ValueError()"
   ]
  },
  {
   "cell_type": "code",
   "execution_count": 446,
   "metadata": {},
   "outputs": [],
   "source": [
    "from abc import ABC, abstractmethod\n",
    "\n",
    "\n",
    "min_i, max_i = 0, 100\n",
    "min_j, max_j = 0, 100\n",
    "    \n",
    "\n",
    "class State(ABC):\n",
    "    def __init__(self, person): \n",
    "        self.person = person\n",
    "        \n",
    "    @abstractmethod\n",
    "    def day_actions(self): pass\n",
    "\n",
    "    @abstractmethod\n",
    "    def night_actions(self): pass\n",
    "\n",
    "    @abstractmethod\n",
    "    def interact(self, other): pass\n",
    "\n",
    "    @abstractmethod\n",
    "    def get_infected(self, virus): pass\n",
    "\n",
    "\n",
    "class Healthy(State):\n",
    "    def day_actions(self):\n",
    "        self.person.position = (randint(min_j, max_j), randint(min_i, max_i))\n",
    "\n",
    "    def night_actions(self):\n",
    "        self.person.position = self.person.home_position\n",
    "\n",
    "    def interact(self, other: Person): pass\n",
    "\n",
    "    def get_infected(self, virus):\n",
    "        if virus.get_type() not in self.person.antibody_types:\n",
    "            self.person.virus = virus\n",
    "            self.person.set_state(AsymptomaticSick(self.person))\n",
    "\n",
    "class AsymptomaticSick(State):\n",
    "    DAYS_SICK_TO_FEEL_BAD = 2\n",
    "    \n",
    "    def __init__(self, person):\n",
    "        super().__init__(person)\n",
    "        self.days_sick = 0\n",
    "\n",
    "    def day_actions(self):\n",
    "        self.person.position = (randint(min_j, max_j), randint(min_i, max_i))\n",
    "        self.person.recovered = False\n",
    "\n",
    "    def night_actions(self):\n",
    "        self.person.position = self.person.home_position\n",
    "        if self.days_sick == AsymptomaticSick.DAYS_SICK_TO_FEEL_BAD:\n",
    "            self.person.set_state(SymptomaticSick(self.person))\n",
    "        self.days_sick += 1\n",
    "\n",
    "    def interact(self, other):\n",
    "        other.get_infected(self.person.virus)\n",
    "\n",
    "    def get_infected(self, virus): pass\n",
    "\n",
    "\n",
    "class SymptomaticSick(State):\n",
    "    def day_actions(self):\n",
    "        self.person.progress_disease()\n",
    "        \n",
    "        if self.person.is_life_threatening_condition():\n",
    "            health_dept = DepartmentOfHealth()\n",
    "            health_dept.hospitalize(self.person)\n",
    "\n",
    "        if self.person.is_life_incompatible_condition():\n",
    "            self.person.set_state(Dead(self.person))\n",
    "        \n",
    "    def night_actions(self):\n",
    "        # try to fight the virus\n",
    "        self.person.fightvirus()\n",
    "        if self.person.virus.strength <= 0:\n",
    "            self.person.set_state(Healthy(self.person))\n",
    "            self.person.antibody_types.add(self.person.virus.get_type())\n",
    "            self.person.virus = None\n",
    "            self.person.recovered = True\n",
    "\n",
    "    def interact(self, other): pass\n",
    "\n",
    "    def get_infected(self, virus): pass\n",
    "\n",
    "    \n",
    "class Dead(State):\n",
    "    def day_actions(self): pass\n",
    "\n",
    "    def night_actions(self): pass\n",
    "\n",
    "    def interact(self, other): pass\n",
    "\n",
    "    def get_infected(self, virus): pass\n"
   ]
  },
  {
   "cell_type": "markdown",
   "metadata": {},
   "source": [
    "# Drugs, Repositories, Prescriptor and Hospital"
   ]
  },
  {
   "cell_type": "code",
   "execution_count": 447,
   "metadata": {},
   "outputs": [],
   "source": [
    "from abc import ABC\n",
    "\n",
    "\n",
    "class Drug(ABC):\n",
    "    def apply(self, person):\n",
    "        # somehow reduce person's symptoms\n",
    "        pass\n",
    "\n",
    "\n",
    "class AntipyreticDrug(Drug): pass\n",
    "\n",
    "\n",
    "class Aspirin(AntipyreticDrug):\n",
    "    '''A cheaper version of the fever/pain killer.'''\n",
    "    def __init__(self, dose):\n",
    "        self.dose = dose\n",
    "        self.efficiency = 0.5\n",
    "        \n",
    "    def apply(self, person):\n",
    "        person.temperature = max(36.6, person.temperature - self.dose * self.efficiency)\n",
    "\n",
    "\n",
    "class Ibuprofen(AntipyreticDrug):\n",
    "    '''A more efficient version of the fever/pain killer.'''\n",
    "    def __init__(self, dose):\n",
    "        self.dose = dose\n",
    "        \n",
    "    def apply(self, person):\n",
    "        person.temperature = 36.6\n",
    "\n",
    "\n",
    "class RehydrationDrug(Drug): pass\n",
    "\n",
    "class Glucose(RehydrationDrug):\n",
    "    '''A cheaper version of the rehydration drug.'''\n",
    "    def __init__(self, dose):\n",
    "        self.dose = dose\n",
    "        self.efficiency = 0.1\n",
    "        \n",
    "    def apply(self, person):\n",
    "        person.water = min(person.water + self.dose * self.efficiency,\n",
    "                            0.6 * person.weight)\n",
    "\n",
    "\n",
    "class Rehydron(RehydrationDrug):\n",
    "    '''A more efficient version of the rehydration drug.'''\n",
    "    def __init__(self, dose):\n",
    "        self.dose = dose\n",
    "        self.efficiency = 1.0\n",
    "        \n",
    "    def apply(self, person):\n",
    "        person._water = 0.6 * person.weight\n",
    "\n",
    "\n",
    "class AntivirusDrug(Drug): pass\n",
    "\n",
    "class Placebo(AntivirusDrug):\n",
    "    def __init__(self, dose):\n",
    "        self.dose = dose\n",
    "\n",
    "    def apply(self, person): pass\n",
    "\n",
    "\n",
    "class AntivirusSeasonalFlu(AntivirusDrug):\n",
    "    def __init__(self, dose):\n",
    "        self.dose = dose\n",
    "        self.efficiency = 1.0\n",
    "        \n",
    "    def apply(self, person):\n",
    "        if isinstance(person.virus, SeasonalFluVirus):\n",
    "            person.virus.strength -= self.dose * self.efficiency\n",
    "            \n",
    "        elif isinstance(person.virus, SARSCoV2):\n",
    "            person.virus.strength -= self.dose * self.efficiency / 10.0\n",
    "\n",
    "\n",
    "class AntivirusSARSCoV2(AntivirusDrug):\n",
    "    def __init__(self, dose):\n",
    "        self.dose = dose\n",
    "        self.efficiency = 0.1\n",
    "        \n",
    "    def apply(self, person):\n",
    "        if isinstance(person.virus, SARSCoV2):\n",
    "            person.virus.strength -= self.dose * self.efficiency\n",
    "\n",
    "\n",
    "class AntivirusCholera(AntivirusDrug):\n",
    "    def __init__(self, dose):\n",
    "        self.dose = dose\n",
    "        self.efficiency = 0.1\n",
    "        \n",
    "    def apply(self, person):\n",
    "        if isinstance(person.virus, Cholera):\n",
    "            person.virus.strength -= self.dose * self.efficiency\n"
   ]
  },
  {
   "cell_type": "code",
   "execution_count": 448,
   "metadata": {},
   "outputs": [],
   "source": [
    "from typing import List\n",
    "\n",
    "\n",
    "class DrugRepository(ABC):\n",
    "    def __init__(self):\n",
    "        self.treatment = []\n",
    "        \n",
    "    @abstractmethod\n",
    "    def get_antifever(self, dose) -> Drug: pass\n",
    "    \n",
    "    @abstractmethod\n",
    "    def get_rehydration(self, dose) -> Drug: pass\n",
    "    \n",
    "    @abstractmethod\n",
    "    def get_seasonal_antivirus(self, dose) -> Drug: pass\n",
    "    \n",
    "    @abstractmethod\n",
    "    def get_sars_antivirus(self, dose) -> Drug: pass\n",
    "    \n",
    "    @abstractmethod\n",
    "    def get_cholera_antivirus(self, dose) -> Drug: pass\n",
    "    \n",
    "    def get_treatment(self):\n",
    "        return self.treatment\n",
    "\n",
    "\n",
    "class CheapDrugRepository(DrugRepository):\n",
    "    def get_antifever(self, dose) -> Drug:\n",
    "        return Aspirin(dose)\n",
    "\n",
    "    def get_rehydration(self, dose) -> Drug:\n",
    "        return Glucose(dose)\n",
    "\n",
    "    def get_seasonal_antivirus(self, dose) -> Drug:\n",
    "        return Placebo(dose)\n",
    "\n",
    "    def get_sars_antivirus(self, dose) -> Drug:\n",
    "        return Placebo(dose)\n",
    "\n",
    "    def get_cholera_antivirus(self, dose) -> Drug:\n",
    "        return Placebo(dose)\n",
    "\n",
    "\n",
    "class ExpensiveDrugRepository(DrugRepository):\n",
    "    def get_antifever(self, dose) -> Drug:\n",
    "        return Ibuprofen(dose)\n",
    "\n",
    "    def get_rehydration(self, dose) -> Drug:\n",
    "        return Rehydron(dose)\n",
    "\n",
    "    def get_seasonal_antivirus(self, dose) -> Drug:\n",
    "        return AntivirusSeasonalFlu(dose)\n",
    "\n",
    "    def get_sars_antivirus(self, dose) -> Drug:\n",
    "        return AntivirusSARSCoV2(dose)\n",
    "\n",
    "    def get_cholera_antivirus(self, dose) -> Drug:\n",
    "        return AntivirusCholera(dose)"
   ]
  },
  {
   "cell_type": "code",
   "execution_count": 449,
   "metadata": {},
   "outputs": [],
   "source": [
    "class AbstractPrescriptor(ABC):\n",
    "    def __init__(self, drug_repository):\n",
    "        self.drug_repository = drug_repository\n",
    "        \n",
    "    @abstractmethod\n",
    "    def create_prescription(self) -> List[Drug]:\n",
    "        pass\n",
    "    \n",
    "\n",
    "class SeasonalFluPrescriptor(AbstractPrescriptor):\n",
    "    def __init__(self, drug_repository, antifever_dose, antivirus_dose):\n",
    "        super().__init__(drug_repository)\n",
    "        self.antifever_dose = antifever_dose\n",
    "        self.antivirus_dose = antivirus_dose\n",
    "\n",
    "    def create_prescription(self) -> List[Drug]:\n",
    "        return [\n",
    "            self.drug_repository.get_antifever(self.antifever_dose),\n",
    "            self.drug_repository.get_seasonal_antivirus(self.antivirus_dose)\n",
    "        ]\n",
    "\n",
    "    \n",
    "class CovidPrescriptor(AbstractPrescriptor):\n",
    "    def __init__(self, drug_repository, antifever_dose, antivirus_dose):\n",
    "        super().__init__(drug_repository)\n",
    "        self.antifever_dose = antifever_dose\n",
    "        self.antivirus_dose = antivirus_dose\n",
    "\n",
    "    def create_prescription(self) -> List[Drug]:\n",
    "        return [\n",
    "            self.drug_repository.get_antifever(self.antifever_dose),\n",
    "            self.drug_repository.get_sars_antivirus(self.antivirus_dose)\n",
    "        ]\n",
    "\n",
    "\n",
    "class CholeraPrescriptor(AbstractPrescriptor):\n",
    "    def __init__(self, drug_repository, rehydradation_dose, antivirus_dose):\n",
    "        super().__init__(drug_repository)\n",
    "        self.rehydradation_dose = rehydradation_dose\n",
    "        self.antivirus_dose = antivirus_dose\n",
    "\n",
    "    def create_prescription(self) -> List[Drug]:\n",
    "        return [\n",
    "            self.drug_repository.get_rehydration(self.rehydradation_dose),\n",
    "            self.drug_repository.get_cholera_antivirus(self.antivirus_dose)\n",
    "        ]\n",
    "\n",
    "\n",
    "def get_prescription_method(disease_type, drug_repository):\n",
    "    if InfectableType.SeasonalFlu == disease_type:\n",
    "        return SeasonalFluPrescriptor(drug_repository, 1, 1)\n",
    "\n",
    "    elif InfectableType.SARSCoV2 == disease_type:\n",
    "        return CovidPrescriptor(drug_repository, 1, 1)\n",
    "\n",
    "    elif InfectableType.SARSCoV2 == disease_type:\n",
    "        return CholeraPrescriptor(drug_repository, 1, 1)\n",
    "\n",
    "    else:\n",
    "        raise ValueError()"
   ]
  },
  {
   "cell_type": "code",
   "execution_count": 450,
   "metadata": {},
   "outputs": [],
   "source": [
    "class Hospital(Observable):\n",
    "    def __init__(self, capacity, drug_repository):\n",
    "        self.drug_repository = drug_repository\n",
    "        self.capacity = capacity\n",
    "        self.patients = []\n",
    "        self.tests = []\n",
    "        self._observers = []\n",
    "\n",
    "    def _treat_patient(self, patient):\n",
    "        # 1. identify disease\n",
    "        if patient.virus is not None:\n",
    "            disease_type = patient.virus.get_type()\n",
    "            prescription_method = get_prescription_method(disease_type, self.drug_repository)\n",
    "        \n",
    "            # 2. understand dose -> simplified in this example, doses are all 1\n",
    "\n",
    "            # 3. compose treatment\n",
    "            prescription_drugs = prescription_method.create_prescription()\n",
    "\n",
    "            # 4. apply treatment\n",
    "            for drug in prescription_drugs:\n",
    "                #patient.take_drug(drug)\n",
    "                drug.apply(patient)\n",
    "                \n",
    "        else:\n",
    "            # 5. release patient from hospital\n",
    "            self.patients.remove(patient)\n",
    "            notify()\n",
    "\n",
    "    def treat_patients(self):\n",
    "        for patient in self.patients:\n",
    "            self._treat_patient(patient)\n",
    "            \n",
    "    def has_free_places(self):\n",
    "        return len(self.patients) < self.capacity\n",
    "            \n",
    "    def add_patient(self, patient: Person):\n",
    "        self.patients.append(patient)\n",
    "        notify()\n",
    "            \n",
    "    def attach(self, observer: Observer):\n",
    "        self._observers.append(observer)\n",
    "    \n",
    "    def detach(self, observer: Observer):\n",
    "        self._observers.remove(observer)\n",
    "        \n",
    "    def notify(self):\n",
    "        for observer in self._observers:\n",
    "            observer.update(self)"
   ]
  },
  {
   "cell_type": "markdown",
   "metadata": {},
   "source": [
    "# Department of Health and Global Context"
   ]
  },
  {
   "cell_type": "code",
   "execution_count": 451,
   "metadata": {},
   "outputs": [],
   "source": [
    "class DepartmentOfHealth:\n",
    "    def __init__(self, hospitals = None):\n",
    "        if hospitals != None:\n",
    "            self.hospitals = hospitals\n",
    "    \n",
    "    def hospitalize(self, patient: Person):\n",
    "        for hospital in self.hospitals:\n",
    "            if hospital.has_free_places():\n",
    "                hospital.add_patient(patient)\n",
    "                break\n",
    "    \n",
    "    def make_policy(self):\n",
    "        pass\n",
    "    \n",
    "    __instance = None\n",
    "    def __new__(cls, *args):\n",
    "        if cls.__instance is None:\n",
    "            cls.__instance = object.__new__(cls)\n",
    "        return cls.__instance"
   ]
  },
  {
   "cell_type": "code",
   "execution_count": 452,
   "metadata": {},
   "outputs": [],
   "source": [
    "class GlobalContext:\n",
    "    def __init__(self, canvas, persons, health_dept):\n",
    "        self.canvas = canvas\n",
    "        self.persons = persons\n",
    "        self.health_dept = health_dept\n",
    "        \n",
    "    __instance = None\n",
    "    def __new__(cls, *args):\n",
    "        if cls.__instance is None:\n",
    "            cls.__instance = object.__new__(cls)\n",
    "        return cls.__instance"
   ]
  },
  {
   "cell_type": "markdown",
   "metadata": {},
   "source": [
    "# Observers for various requested stats"
   ]
  },
  {
   "cell_type": "code",
   "execution_count": null,
   "metadata": {},
   "outputs": [],
   "source": [
    "class Observer(ABC):\n",
    "    \n",
    "    @abstractmethod\n",
    "    def update(self, subject: Observable):\n",
    "        pass\n",
    "    \n",
    "class InfectedObserver(Observer):\n",
    "    self._infectedCount = 0\n",
    "    \n",
    "    def update(self, subject: Person):\n",
    "        \n",
    "        \n",
    "        \n",
    "    def getInfectedCount(self):\n",
    "        return self._infectedCount\n",
    "        \n",
    "class HospitalizedObserver(Observer):\n",
    "    def update(self, subject: Observable):\n",
    "\n",
    "class DeathObserver(Observer):\n",
    "    def update(self, subject: Person):\n",
    "        \n",
    "class RecoveredObserver(Observer):\n",
    "    def update(self, subject: Person):\n",
    "        \n",
    "class AntibodyObserver(Observer):\n",
    "    def update(self, subject: Person):"
   ]
  },
  {
   "cell_type": "markdown",
   "metadata": {},
   "source": [
    "# Simulation"
   ]
  },
  {
   "cell_type": "code",
   "execution_count": 453,
   "metadata": {},
   "outputs": [],
   "source": [
    "def simulate_day(context):\n",
    "    persons, health_dept, hospitals = context.persons, context.health_dept, context.health_dept.hospitals\n",
    "\n",
    "    health_dept.make_policy()\n",
    "    \n",
    "    for hospital in hospitals:\n",
    "        hospital.treat_patients()\n",
    "    \n",
    "    for person in persons:\n",
    "        person.day_actions()\n",
    "    \n",
    "    for person in persons:\n",
    "        for other in persons:\n",
    "            if person is not other and person.is_close_to(other):\n",
    "                person.interact(other)\n",
    "    \n",
    "    print(persons[0].state)\n",
    "                \n",
    "    for person in persons:\n",
    "        person.night_actions()"
   ]
  },
  {
   "cell_type": "code",
   "execution_count": 454,
   "metadata": {},
   "outputs": [],
   "source": [
    "from random import randint\n",
    "\n",
    "\n",
    "def create_persons(min_j, max_j, min_i, max_i, n_persons):\n",
    "    min_age, max_age = 1, 90\n",
    "    min_weight, max_weight = 30, 120\n",
    "    persons = [\n",
    "        Person(\n",
    "            home_position=(randint(min_j, max_j), randint(min_i, max_i)),\n",
    "            age=randint(min_age, max_age),\n",
    "            weight=randint(min_weight, max_weight),\n",
    "        )\n",
    "        for i in range(n_persons)\n",
    "    ]\n",
    "    return persons\n",
    "\n",
    "\n",
    "def create_department_of_health(hospitals):\n",
    "    return DepartmentOfHealth(hospitals)\n",
    "\n",
    "\n",
    "def create_hospitals(n_hospitals):\n",
    "    hospitals = [\n",
    "        Hospital(capacity=100, drug_repository=CheapDrugRepository())\n",
    "        for i in range(n_hospitals)\n",
    "    ]\n",
    "    return hospitals\n",
    "\n",
    "\n",
    "def initialize():\n",
    "    # our little country\n",
    "    min_i, max_i = 0, 100\n",
    "    min_j, max_j = 0, 100\n",
    "    \n",
    "    # our citizen\n",
    "    n_persons = 1000\n",
    "    persons = create_persons(min_j, max_j, min_i, max_i, n_persons)\n",
    "    \n",
    "    for i in range(10):\n",
    "        persons[i].get_infected(get_infectable(InfectableType.SARSCoV2))\n",
    "        \n",
    "    # our healthcare system\n",
    "    n_hospitals = 4\n",
    "    hospitals = create_hospitals(n_hospitals)\n",
    "    \n",
    "    health_dept = create_department_of_health(hospitals)\n",
    "    \n",
    "    # global context\n",
    "    context = GlobalContext(\n",
    "        (min_j, max_j, min_i, max_i),\n",
    "        persons,\n",
    "        health_dept\n",
    "    )\n",
    "\n",
    "    return context"
   ]
  },
  {
   "cell_type": "code",
   "execution_count": 455,
   "metadata": {},
   "outputs": [],
   "source": [
    "import tqdm"
   ]
  },
  {
   "cell_type": "code",
   "execution_count": 456,
   "metadata": {},
   "outputs": [
    {
     "name": "stderr",
     "output_type": "stream",
     "text": [
      "\r",
      "  0%|          | 0/100 [00:00<?, ?it/s]"
     ]
    },
    {
     "name": "stdout",
     "output_type": "stream",
     "text": [
      "I got infected!\n",
      "I got infected!\n",
      "I got infected!\n",
      "I got infected!\n",
      "I got infected!\n",
      "I got infected!\n",
      "I got infected!\n",
      "I got infected!\n",
      "I got infected!\n",
      "I got infected!\n",
      "I am sick and interacting!\n",
      "I got infected!\n",
      "I am sick and interacting!\n"
     ]
    },
    {
     "name": "stderr",
     "output_type": "stream",
     "text": [
      "\r",
      "  1%|          | 1/100 [00:00<00:22,  4.37it/s]"
     ]
    },
    {
     "name": "stdout",
     "output_type": "stream",
     "text": [
      "<__main__.AsymptomaticSick object at 0x7f7f540a9e80>\n",
      "I am sick and interacting!\n",
      "I got infected!\n",
      "I am sick and interacting!\n"
     ]
    },
    {
     "name": "stderr",
     "output_type": "stream",
     "text": [
      "\r",
      "  2%|▏         | 2/100 [00:00<00:22,  4.41it/s]"
     ]
    },
    {
     "name": "stdout",
     "output_type": "stream",
     "text": [
      "<__main__.AsymptomaticSick object at 0x7f7f540a9e80>\n",
      "I am sick and interacting!\n",
      "I got infected!\n",
      "I am sick and interacting!\n"
     ]
    },
    {
     "name": "stderr",
     "output_type": "stream",
     "text": [
      "\r",
      "  3%|▎         | 3/100 [00:00<00:22,  4.37it/s]"
     ]
    },
    {
     "name": "stdout",
     "output_type": "stream",
     "text": [
      "<__main__.AsymptomaticSick object at 0x7f7f540a9e80>\n"
     ]
    },
    {
     "name": "stderr",
     "output_type": "stream",
     "text": [
      "\r",
      "  4%|▍         | 4/100 [00:00<00:22,  4.29it/s]"
     ]
    },
    {
     "name": "stdout",
     "output_type": "stream",
     "text": [
      "<__main__.SymptomaticSick object at 0x7f7f3ea6d668>\n"
     ]
    },
    {
     "name": "stderr",
     "output_type": "stream",
     "text": [
      "\r",
      "  5%|▌         | 5/100 [00:01<00:22,  4.27it/s]"
     ]
    },
    {
     "name": "stdout",
     "output_type": "stream",
     "text": [
      "<__main__.SymptomaticSick object at 0x7f7f3ea6d668>\n"
     ]
    },
    {
     "name": "stderr",
     "output_type": "stream",
     "text": [
      "\r",
      "  6%|▌         | 6/100 [00:01<00:22,  4.21it/s]"
     ]
    },
    {
     "name": "stdout",
     "output_type": "stream",
     "text": [
      "<__main__.SymptomaticSick object at 0x7f7f3ea6d668>\n"
     ]
    },
    {
     "name": "stderr",
     "output_type": "stream",
     "text": [
      "\r",
      "  7%|▋         | 7/100 [00:01<00:22,  4.21it/s]"
     ]
    },
    {
     "name": "stdout",
     "output_type": "stream",
     "text": [
      "<__main__.SymptomaticSick object at 0x7f7f3ea6d668>\n"
     ]
    },
    {
     "name": "stderr",
     "output_type": "stream",
     "text": [
      "\r",
      "  8%|▊         | 8/100 [00:01<00:22,  4.17it/s]"
     ]
    },
    {
     "name": "stdout",
     "output_type": "stream",
     "text": [
      "<__main__.SymptomaticSick object at 0x7f7f3ea6d668>\n"
     ]
    },
    {
     "name": "stderr",
     "output_type": "stream",
     "text": [
      "\r",
      "  9%|▉         | 9/100 [00:02<00:21,  4.22it/s]"
     ]
    },
    {
     "name": "stdout",
     "output_type": "stream",
     "text": [
      "<__main__.SymptomaticSick object at 0x7f7f3ea6d668>\n",
      "Hospitalizing Person  <__main__.Person object at 0x7f7f3ec89630>\n",
      "Hospitalizing Person  <__main__.Person object at 0x7f7f3ec89710>\n",
      "Hospitalizing Person  <__main__.Person object at 0x7f7f3ec899b0>\n",
      "Hospitalizing Person  <__main__.Person object at 0x7f7f3ec893c8>\n"
     ]
    },
    {
     "name": "stderr",
     "output_type": "stream",
     "text": [
      "\r",
      " 10%|█         | 10/100 [00:02<00:21,  4.22it/s]"
     ]
    },
    {
     "name": "stdout",
     "output_type": "stream",
     "text": [
      "<__main__.SymptomaticSick object at 0x7f7f3ea6d668>\n",
      "Hospitalizing Person  <__main__.Person object at 0x7f7f3ec89630>\n",
      "Hospitalizing Person  <__main__.Person object at 0x7f7f3ec89710>\n",
      "Hospitalizing Person  <__main__.Person object at 0x7f7f3ec899b0>\n",
      "Hospitalizing Person  <__main__.Person object at 0x7f7f3ec893c8>\n"
     ]
    },
    {
     "name": "stderr",
     "output_type": "stream",
     "text": [
      "\r",
      " 11%|█         | 11/100 [00:02<00:20,  4.25it/s]"
     ]
    },
    {
     "name": "stdout",
     "output_type": "stream",
     "text": [
      "<__main__.SymptomaticSick object at 0x7f7f3ea6d668>\n",
      "Hospitalizing Person  <__main__.Person object at 0x7f7f3ec89630>\n",
      "Hospitalizing Person  <__main__.Person object at 0x7f7f3ec89710>\n",
      "Hospitalizing Person  <__main__.Person object at 0x7f7f3ec899b0>\n",
      "Hospitalizing Person  <__main__.Person object at 0x7f7f3edf3c50>\n"
     ]
    },
    {
     "name": "stderr",
     "output_type": "stream",
     "text": [
      "\r",
      " 12%|█▏        | 12/100 [00:02<00:20,  4.27it/s]"
     ]
    },
    {
     "name": "stdout",
     "output_type": "stream",
     "text": [
      "<__main__.SymptomaticSick object at 0x7f7f3ea6d668>\n",
      "Hospitalizing Person  <__main__.Person object at 0x7f7f3ec89630>\n",
      "Hospitalizing Person  <__main__.Person object at 0x7f7f3ec89710>\n",
      "Hospitalizing Person  <__main__.Person object at 0x7f7f3ec899b0>\n",
      "Hospitalizing Person  <__main__.Person object at 0x7f7f3edf3c50>\n"
     ]
    },
    {
     "name": "stderr",
     "output_type": "stream",
     "text": [
      "\r",
      " 13%|█▎        | 13/100 [00:03<00:20,  4.23it/s]"
     ]
    },
    {
     "name": "stdout",
     "output_type": "stream",
     "text": [
      "<__main__.SymptomaticSick object at 0x7f7f3ea6d668>\n",
      "Hospitalizing Person  <__main__.Person object at 0x7f7f3ec89630>\n",
      "Hospitalizing Person  <__main__.Person object at 0x7f7f3ec89710>\n",
      "Hospitalizing Person  <__main__.Person object at 0x7f7f3ec899b0>\n",
      "Hospitalizing Person  <__main__.Person object at 0x7f7f3edf3c50>\n"
     ]
    },
    {
     "name": "stderr",
     "output_type": "stream",
     "text": [
      "\r",
      " 14%|█▍        | 14/100 [00:03<00:20,  4.18it/s]"
     ]
    },
    {
     "name": "stdout",
     "output_type": "stream",
     "text": [
      "<__main__.SymptomaticSick object at 0x7f7f3ea6d668>\n",
      "Hospitalizing Person  <__main__.Person object at 0x7f7f3ec89630>\n",
      "Hospitalizing Person  <__main__.Person object at 0x7f7f3ec89710>\n",
      "Hospitalizing Person  <__main__.Person object at 0x7f7f3ec899b0>\n",
      "Hospitalizing Person  <__main__.Person object at 0x7f7f3edf3c50>\n"
     ]
    },
    {
     "name": "stderr",
     "output_type": "stream",
     "text": [
      "\r",
      " 15%|█▌        | 15/100 [00:03<00:20,  4.23it/s]"
     ]
    },
    {
     "name": "stdout",
     "output_type": "stream",
     "text": [
      "<__main__.SymptomaticSick object at 0x7f7f3ea6d668>\n",
      "Hospitalizing Person  <__main__.Person object at 0x7f7f3ec89630>\n",
      "Hospitalizing Person  <__main__.Person object at 0x7f7f3ec89710>\n",
      "Hospitalizing Person  <__main__.Person object at 0x7f7f3ec899b0>\n"
     ]
    },
    {
     "name": "stderr",
     "output_type": "stream",
     "text": [
      "\r",
      " 16%|█▌        | 16/100 [00:03<00:19,  4.28it/s]"
     ]
    },
    {
     "name": "stdout",
     "output_type": "stream",
     "text": [
      "<__main__.SymptomaticSick object at 0x7f7f3ea6d668>\n",
      "Hospitalizing Person  <__main__.Person object at 0x7f7f3ec89710>\n",
      "Hospitalizing Person  <__main__.Person object at 0x7f7f3ec899b0>\n"
     ]
    },
    {
     "name": "stderr",
     "output_type": "stream",
     "text": [
      "\r",
      " 17%|█▋        | 17/100 [00:04<00:19,  4.26it/s]"
     ]
    },
    {
     "name": "stdout",
     "output_type": "stream",
     "text": [
      "<__main__.Healthy object at 0x7f7f3ec7ada0>\n",
      "Hospitalizing Person  <__main__.Person object at 0x7f7f3ec89710>\n",
      "Hospitalizing Person  <__main__.Person object at 0x7f7f3ec899b0>\n"
     ]
    },
    {
     "name": "stderr",
     "output_type": "stream",
     "text": [
      "\r",
      " 18%|█▊        | 18/100 [00:04<00:19,  4.26it/s]"
     ]
    },
    {
     "name": "stdout",
     "output_type": "stream",
     "text": [
      "<__main__.Healthy object at 0x7f7f3ec7ada0>\n",
      "Hospitalizing Person  <__main__.Person object at 0x7f7f3ec89710>\n",
      "Hospitalizing Person  <__main__.Person object at 0x7f7f3ec899b0>\n"
     ]
    },
    {
     "name": "stderr",
     "output_type": "stream",
     "text": [
      "\r",
      " 19%|█▉        | 19/100 [00:04<00:18,  4.29it/s]"
     ]
    },
    {
     "name": "stdout",
     "output_type": "stream",
     "text": [
      "<__main__.Healthy object at 0x7f7f3ec7ada0>\n",
      "Hospitalizing Person  <__main__.Person object at 0x7f7f3ec89710>\n",
      "Hospitalizing Person  <__main__.Person object at 0x7f7f3ec899b0>\n"
     ]
    },
    {
     "name": "stderr",
     "output_type": "stream",
     "text": [
      "\r",
      " 20%|██        | 20/100 [00:04<00:18,  4.33it/s]"
     ]
    },
    {
     "name": "stdout",
     "output_type": "stream",
     "text": [
      "<__main__.Healthy object at 0x7f7f3ec7ada0>\n",
      "Hospitalizing Person  <__main__.Person object at 0x7f7f3ec89710>\n",
      "Hospitalizing Person  <__main__.Person object at 0x7f7f3ec899b0>\n"
     ]
    },
    {
     "name": "stderr",
     "output_type": "stream",
     "text": [
      "\r",
      " 21%|██        | 21/100 [00:04<00:18,  4.38it/s]"
     ]
    },
    {
     "name": "stdout",
     "output_type": "stream",
     "text": [
      "<__main__.Healthy object at 0x7f7f3ec7ada0>\n",
      "Hospitalizing Person  <__main__.Person object at 0x7f7f3ec89710>\n",
      "Hospitalizing Person  <__main__.Person object at 0x7f7f3ec899b0>\n"
     ]
    },
    {
     "name": "stderr",
     "output_type": "stream",
     "text": [
      "\r",
      " 22%|██▏       | 22/100 [00:05<00:17,  4.39it/s]"
     ]
    },
    {
     "name": "stdout",
     "output_type": "stream",
     "text": [
      "<__main__.Healthy object at 0x7f7f3ec7ada0>\n",
      "Hospitalizing Person  <__main__.Person object at 0x7f7f3ec89710>\n",
      "Hospitalizing Person  <__main__.Person object at 0x7f7f3ec899b0>\n"
     ]
    },
    {
     "name": "stderr",
     "output_type": "stream",
     "text": [
      "\r",
      " 23%|██▎       | 23/100 [00:05<00:17,  4.41it/s]"
     ]
    },
    {
     "name": "stdout",
     "output_type": "stream",
     "text": [
      "<__main__.Healthy object at 0x7f7f3ec7ada0>\n",
      "Hospitalizing Person  <__main__.Person object at 0x7f7f3ec89710>\n",
      "Hospitalizing Person  <__main__.Person object at 0x7f7f3ec899b0>\n"
     ]
    },
    {
     "name": "stderr",
     "output_type": "stream",
     "text": [
      "\r",
      " 24%|██▍       | 24/100 [00:05<00:17,  4.44it/s]"
     ]
    },
    {
     "name": "stdout",
     "output_type": "stream",
     "text": [
      "<__main__.Healthy object at 0x7f7f3ec7ada0>\n",
      "Hospitalizing Person  <__main__.Person object at 0x7f7f3ec89710>\n",
      "Hospitalizing Person  <__main__.Person object at 0x7f7f3ec899b0>\n"
     ]
    },
    {
     "name": "stderr",
     "output_type": "stream",
     "text": [
      "\r",
      " 25%|██▌       | 25/100 [00:05<00:17,  4.39it/s]"
     ]
    },
    {
     "name": "stdout",
     "output_type": "stream",
     "text": [
      "<__main__.Healthy object at 0x7f7f3ec7ada0>\n",
      "Hospitalizing Person  <__main__.Person object at 0x7f7f3ec89710>\n",
      "Hospitalizing Person  <__main__.Person object at 0x7f7f3ec899b0>\n"
     ]
    },
    {
     "name": "stderr",
     "output_type": "stream",
     "text": [
      "\r",
      " 26%|██▌       | 26/100 [00:06<00:17,  4.26it/s]"
     ]
    },
    {
     "name": "stdout",
     "output_type": "stream",
     "text": [
      "<__main__.Healthy object at 0x7f7f3ec7ada0>\n",
      "Hospitalizing Person  <__main__.Person object at 0x7f7f3ec89710>\n"
     ]
    },
    {
     "name": "stderr",
     "output_type": "stream",
     "text": [
      "\r",
      " 27%|██▋       | 27/100 [00:06<00:16,  4.30it/s]"
     ]
    },
    {
     "name": "stdout",
     "output_type": "stream",
     "text": [
      "<__main__.Healthy object at 0x7f7f3ec7ada0>\n",
      "Hospitalizing Person  <__main__.Person object at 0x7f7f3ec89710>\n"
     ]
    },
    {
     "name": "stderr",
     "output_type": "stream",
     "text": [
      "\r",
      " 28%|██▊       | 28/100 [00:06<00:16,  4.33it/s]"
     ]
    },
    {
     "name": "stdout",
     "output_type": "stream",
     "text": [
      "<__main__.Healthy object at 0x7f7f3ec7ada0>\n",
      "Hospitalizing Person  <__main__.Person object at 0x7f7f3ec89710>\n"
     ]
    },
    {
     "name": "stderr",
     "output_type": "stream",
     "text": [
      "\r",
      " 29%|██▉       | 29/100 [00:06<00:16,  4.34it/s]"
     ]
    },
    {
     "name": "stdout",
     "output_type": "stream",
     "text": [
      "<__main__.Healthy object at 0x7f7f3ec7ada0>\n",
      "Hospitalizing Person  <__main__.Person object at 0x7f7f3ec89710>\n"
     ]
    },
    {
     "name": "stderr",
     "output_type": "stream",
     "text": [
      "\r",
      " 30%|███       | 30/100 [00:07<00:16,  4.25it/s]"
     ]
    },
    {
     "name": "stdout",
     "output_type": "stream",
     "text": [
      "<__main__.Healthy object at 0x7f7f3ec7ada0>\n",
      "Hospitalizing Person  <__main__.Person object at 0x7f7f3ec89710>\n"
     ]
    },
    {
     "name": "stderr",
     "output_type": "stream",
     "text": [
      "\r",
      " 31%|███       | 31/100 [00:07<00:16,  4.26it/s]"
     ]
    },
    {
     "name": "stdout",
     "output_type": "stream",
     "text": [
      "<__main__.Healthy object at 0x7f7f3ec7ada0>\n",
      "Hospitalizing Person  <__main__.Person object at 0x7f7f3ec89710>\n"
     ]
    },
    {
     "name": "stderr",
     "output_type": "stream",
     "text": [
      "\r",
      " 32%|███▏      | 32/100 [00:07<00:15,  4.29it/s]"
     ]
    },
    {
     "name": "stdout",
     "output_type": "stream",
     "text": [
      "<__main__.Healthy object at 0x7f7f3ec7ada0>\n",
      "Hospitalizing Person  <__main__.Person object at 0x7f7f3ec89710>\n"
     ]
    },
    {
     "name": "stderr",
     "output_type": "stream",
     "text": [
      "\r",
      " 33%|███▎      | 33/100 [00:07<00:15,  4.31it/s]"
     ]
    },
    {
     "name": "stdout",
     "output_type": "stream",
     "text": [
      "<__main__.Healthy object at 0x7f7f3ec7ada0>\n",
      "Hospitalizing Person  <__main__.Person object at 0x7f7f3ec89710>\n"
     ]
    },
    {
     "name": "stderr",
     "output_type": "stream",
     "text": [
      "\r",
      " 34%|███▍      | 34/100 [00:07<00:15,  4.31it/s]"
     ]
    },
    {
     "name": "stdout",
     "output_type": "stream",
     "text": [
      "<__main__.Healthy object at 0x7f7f3ec7ada0>\n",
      "Hospitalizing Person  <__main__.Person object at 0x7f7f3ec89710>\n"
     ]
    },
    {
     "name": "stderr",
     "output_type": "stream",
     "text": [
      "\r",
      " 35%|███▌      | 35/100 [00:08<00:15,  4.30it/s]"
     ]
    },
    {
     "name": "stdout",
     "output_type": "stream",
     "text": [
      "<__main__.Healthy object at 0x7f7f3ec7ada0>\n",
      "Hospitalizing Person  <__main__.Person object at 0x7f7f3ec89710>\n"
     ]
    },
    {
     "name": "stderr",
     "output_type": "stream",
     "text": [
      "\r",
      " 36%|███▌      | 36/100 [00:08<00:14,  4.33it/s]"
     ]
    },
    {
     "name": "stdout",
     "output_type": "stream",
     "text": [
      "<__main__.Healthy object at 0x7f7f3ec7ada0>\n",
      "Hospitalizing Person  <__main__.Person object at 0x7f7f3ec89710>\n"
     ]
    },
    {
     "name": "stderr",
     "output_type": "stream",
     "text": [
      "\r",
      " 37%|███▋      | 37/100 [00:08<00:14,  4.37it/s]"
     ]
    },
    {
     "name": "stdout",
     "output_type": "stream",
     "text": [
      "<__main__.Healthy object at 0x7f7f3ec7ada0>\n",
      "Hospitalizing Person  <__main__.Person object at 0x7f7f3ec89710>\n"
     ]
    },
    {
     "name": "stderr",
     "output_type": "stream",
     "text": [
      "\r",
      " 38%|███▊      | 38/100 [00:08<00:14,  4.34it/s]"
     ]
    },
    {
     "name": "stdout",
     "output_type": "stream",
     "text": [
      "<__main__.Healthy object at 0x7f7f3ec7ada0>\n",
      "Hospitalizing Person  <__main__.Person object at 0x7f7f3ec89710>\n"
     ]
    },
    {
     "name": "stderr",
     "output_type": "stream",
     "text": [
      "\r",
      " 39%|███▉      | 39/100 [00:09<00:14,  4.34it/s]"
     ]
    },
    {
     "name": "stdout",
     "output_type": "stream",
     "text": [
      "<__main__.Healthy object at 0x7f7f3ec7ada0>\n",
      "Hospitalizing Person  <__main__.Person object at 0x7f7f3ec89710>\n"
     ]
    },
    {
     "name": "stderr",
     "output_type": "stream",
     "text": [
      "\r",
      " 40%|████      | 40/100 [00:09<00:13,  4.38it/s]"
     ]
    },
    {
     "name": "stdout",
     "output_type": "stream",
     "text": [
      "<__main__.Healthy object at 0x7f7f3ec7ada0>\n",
      "Hospitalizing Person  <__main__.Person object at 0x7f7f3ec89710>\n"
     ]
    },
    {
     "name": "stderr",
     "output_type": "stream",
     "text": [
      "\r",
      " 41%|████      | 41/100 [00:09<00:13,  4.42it/s]"
     ]
    },
    {
     "name": "stdout",
     "output_type": "stream",
     "text": [
      "<__main__.Healthy object at 0x7f7f3ec7ada0>\n",
      "Hospitalizing Person  <__main__.Person object at 0x7f7f3ec89710>\n"
     ]
    },
    {
     "name": "stderr",
     "output_type": "stream",
     "text": [
      "\r",
      " 42%|████▏     | 42/100 [00:09<00:13,  4.35it/s]"
     ]
    },
    {
     "name": "stdout",
     "output_type": "stream",
     "text": [
      "<__main__.Healthy object at 0x7f7f3ec7ada0>\n",
      "Hospitalizing Person  <__main__.Person object at 0x7f7f3ec89710>\n"
     ]
    },
    {
     "name": "stderr",
     "output_type": "stream",
     "text": [
      "\r",
      " 43%|████▎     | 43/100 [00:09<00:13,  4.36it/s]"
     ]
    },
    {
     "name": "stdout",
     "output_type": "stream",
     "text": [
      "<__main__.Healthy object at 0x7f7f3ec7ada0>\n",
      "Hospitalizing Person  <__main__.Person object at 0x7f7f3ec89710>\n"
     ]
    },
    {
     "name": "stderr",
     "output_type": "stream",
     "text": [
      "\r",
      " 44%|████▍     | 44/100 [00:10<00:12,  4.38it/s]"
     ]
    },
    {
     "name": "stdout",
     "output_type": "stream",
     "text": [
      "<__main__.Healthy object at 0x7f7f3ec7ada0>\n"
     ]
    },
    {
     "name": "stderr",
     "output_type": "stream",
     "text": [
      "\r",
      " 45%|████▌     | 45/100 [00:10<00:12,  4.34it/s]"
     ]
    },
    {
     "name": "stdout",
     "output_type": "stream",
     "text": [
      "<__main__.Healthy object at 0x7f7f3ec7ada0>\n"
     ]
    },
    {
     "name": "stderr",
     "output_type": "stream",
     "text": [
      "\r",
      " 46%|████▌     | 46/100 [00:10<00:12,  4.31it/s]"
     ]
    },
    {
     "name": "stdout",
     "output_type": "stream",
     "text": [
      "<__main__.Healthy object at 0x7f7f3ec7ada0>\n"
     ]
    },
    {
     "name": "stderr",
     "output_type": "stream",
     "text": [
      "\r",
      " 47%|████▋     | 47/100 [00:10<00:12,  4.23it/s]"
     ]
    },
    {
     "name": "stdout",
     "output_type": "stream",
     "text": [
      "<__main__.Healthy object at 0x7f7f3ec7ada0>\n"
     ]
    },
    {
     "name": "stderr",
     "output_type": "stream",
     "text": [
      "\r",
      " 48%|████▊     | 48/100 [00:11<00:12,  4.23it/s]"
     ]
    },
    {
     "name": "stdout",
     "output_type": "stream",
     "text": [
      "<__main__.Healthy object at 0x7f7f3ec7ada0>\n"
     ]
    },
    {
     "name": "stderr",
     "output_type": "stream",
     "text": [
      "\r",
      " 49%|████▉     | 49/100 [00:11<00:11,  4.28it/s]"
     ]
    },
    {
     "name": "stdout",
     "output_type": "stream",
     "text": [
      "<__main__.Healthy object at 0x7f7f3ec7ada0>\n"
     ]
    },
    {
     "name": "stderr",
     "output_type": "stream",
     "text": [
      "\r",
      " 50%|█████     | 50/100 [00:11<00:11,  4.33it/s]"
     ]
    },
    {
     "name": "stdout",
     "output_type": "stream",
     "text": [
      "<__main__.Healthy object at 0x7f7f3ec7ada0>\n"
     ]
    },
    {
     "name": "stderr",
     "output_type": "stream",
     "text": [
      "\r",
      " 51%|█████     | 51/100 [00:11<00:11,  4.29it/s]"
     ]
    },
    {
     "name": "stdout",
     "output_type": "stream",
     "text": [
      "<__main__.Healthy object at 0x7f7f3ec7ada0>\n"
     ]
    },
    {
     "name": "stderr",
     "output_type": "stream",
     "text": [
      "\r",
      " 52%|█████▏    | 52/100 [00:12<00:11,  4.34it/s]"
     ]
    },
    {
     "name": "stdout",
     "output_type": "stream",
     "text": [
      "<__main__.Healthy object at 0x7f7f3ec7ada0>\n"
     ]
    },
    {
     "name": "stderr",
     "output_type": "stream",
     "text": [
      "\r",
      " 53%|█████▎    | 53/100 [00:12<00:10,  4.39it/s]"
     ]
    },
    {
     "name": "stdout",
     "output_type": "stream",
     "text": [
      "<__main__.Healthy object at 0x7f7f3ec7ada0>\n"
     ]
    },
    {
     "name": "stderr",
     "output_type": "stream",
     "text": [
      "\r",
      " 54%|█████▍    | 54/100 [00:12<00:10,  4.41it/s]"
     ]
    },
    {
     "name": "stdout",
     "output_type": "stream",
     "text": [
      "<__main__.Healthy object at 0x7f7f3ec7ada0>\n"
     ]
    },
    {
     "name": "stderr",
     "output_type": "stream",
     "text": [
      "\r",
      " 55%|█████▌    | 55/100 [00:12<00:10,  4.42it/s]"
     ]
    },
    {
     "name": "stdout",
     "output_type": "stream",
     "text": [
      "<__main__.Healthy object at 0x7f7f3ec7ada0>\n"
     ]
    },
    {
     "name": "stderr",
     "output_type": "stream",
     "text": [
      "\r",
      " 56%|█████▌    | 56/100 [00:13<00:10,  4.31it/s]"
     ]
    },
    {
     "name": "stdout",
     "output_type": "stream",
     "text": [
      "<__main__.Healthy object at 0x7f7f3ec7ada0>\n"
     ]
    },
    {
     "name": "stderr",
     "output_type": "stream",
     "text": [
      "\r",
      " 57%|█████▋    | 57/100 [00:13<00:10,  4.29it/s]"
     ]
    },
    {
     "name": "stdout",
     "output_type": "stream",
     "text": [
      "<__main__.Healthy object at 0x7f7f3ec7ada0>\n"
     ]
    },
    {
     "name": "stderr",
     "output_type": "stream",
     "text": [
      "\r",
      " 58%|█████▊    | 58/100 [00:13<00:09,  4.35it/s]"
     ]
    },
    {
     "name": "stdout",
     "output_type": "stream",
     "text": [
      "<__main__.Healthy object at 0x7f7f3ec7ada0>\n"
     ]
    },
    {
     "name": "stderr",
     "output_type": "stream",
     "text": [
      "\r",
      " 59%|█████▉    | 59/100 [00:13<00:09,  4.40it/s]"
     ]
    },
    {
     "name": "stdout",
     "output_type": "stream",
     "text": [
      "<__main__.Healthy object at 0x7f7f3ec7ada0>\n"
     ]
    },
    {
     "name": "stderr",
     "output_type": "stream",
     "text": [
      "\r",
      " 60%|██████    | 60/100 [00:13<00:09,  4.44it/s]"
     ]
    },
    {
     "name": "stdout",
     "output_type": "stream",
     "text": [
      "<__main__.Healthy object at 0x7f7f3ec7ada0>\n"
     ]
    },
    {
     "name": "stderr",
     "output_type": "stream",
     "text": [
      "\r",
      " 61%|██████    | 61/100 [00:14<00:08,  4.46it/s]"
     ]
    },
    {
     "name": "stdout",
     "output_type": "stream",
     "text": [
      "<__main__.Healthy object at 0x7f7f3ec7ada0>\n"
     ]
    },
    {
     "name": "stderr",
     "output_type": "stream",
     "text": [
      "\r",
      " 62%|██████▏   | 62/100 [00:14<00:08,  4.48it/s]"
     ]
    },
    {
     "name": "stdout",
     "output_type": "stream",
     "text": [
      "<__main__.Healthy object at 0x7f7f3ec7ada0>\n"
     ]
    },
    {
     "name": "stderr",
     "output_type": "stream",
     "text": [
      "\r",
      " 63%|██████▎   | 63/100 [00:14<00:08,  4.49it/s]"
     ]
    },
    {
     "name": "stdout",
     "output_type": "stream",
     "text": [
      "<__main__.Healthy object at 0x7f7f3ec7ada0>\n"
     ]
    },
    {
     "name": "stderr",
     "output_type": "stream",
     "text": [
      "\r",
      " 64%|██████▍   | 64/100 [00:14<00:08,  4.45it/s]"
     ]
    },
    {
     "name": "stdout",
     "output_type": "stream",
     "text": [
      "<__main__.Healthy object at 0x7f7f3ec7ada0>\n"
     ]
    },
    {
     "name": "stderr",
     "output_type": "stream",
     "text": [
      "\r",
      " 65%|██████▌   | 65/100 [00:15<00:07,  4.45it/s]"
     ]
    },
    {
     "name": "stdout",
     "output_type": "stream",
     "text": [
      "<__main__.Healthy object at 0x7f7f3ec7ada0>\n"
     ]
    },
    {
     "name": "stderr",
     "output_type": "stream",
     "text": [
      "\r",
      " 66%|██████▌   | 66/100 [00:15<00:07,  4.42it/s]"
     ]
    },
    {
     "name": "stdout",
     "output_type": "stream",
     "text": [
      "<__main__.Healthy object at 0x7f7f3ec7ada0>\n"
     ]
    },
    {
     "name": "stderr",
     "output_type": "stream",
     "text": [
      "\r",
      " 67%|██████▋   | 67/100 [00:15<00:07,  4.42it/s]"
     ]
    },
    {
     "name": "stdout",
     "output_type": "stream",
     "text": [
      "<__main__.Healthy object at 0x7f7f3ec7ada0>\n"
     ]
    },
    {
     "name": "stderr",
     "output_type": "stream",
     "text": [
      "\r",
      " 68%|██████▊   | 68/100 [00:15<00:07,  4.37it/s]"
     ]
    },
    {
     "name": "stdout",
     "output_type": "stream",
     "text": [
      "<__main__.Healthy object at 0x7f7f3ec7ada0>\n"
     ]
    },
    {
     "name": "stderr",
     "output_type": "stream",
     "text": [
      "\r",
      " 69%|██████▉   | 69/100 [00:15<00:07,  4.34it/s]"
     ]
    },
    {
     "name": "stdout",
     "output_type": "stream",
     "text": [
      "<__main__.Healthy object at 0x7f7f3ec7ada0>\n"
     ]
    },
    {
     "name": "stderr",
     "output_type": "stream",
     "text": [
      "\r",
      " 70%|███████   | 70/100 [00:16<00:06,  4.37it/s]"
     ]
    },
    {
     "name": "stdout",
     "output_type": "stream",
     "text": [
      "<__main__.Healthy object at 0x7f7f3ec7ada0>\n"
     ]
    },
    {
     "name": "stderr",
     "output_type": "stream",
     "text": [
      "\r",
      " 71%|███████   | 71/100 [00:16<00:06,  4.38it/s]"
     ]
    },
    {
     "name": "stdout",
     "output_type": "stream",
     "text": [
      "<__main__.Healthy object at 0x7f7f3ec7ada0>\n"
     ]
    },
    {
     "name": "stderr",
     "output_type": "stream",
     "text": [
      "\r",
      " 72%|███████▏  | 72/100 [00:16<00:06,  4.41it/s]"
     ]
    },
    {
     "name": "stdout",
     "output_type": "stream",
     "text": [
      "<__main__.Healthy object at 0x7f7f3ec7ada0>\n"
     ]
    },
    {
     "name": "stderr",
     "output_type": "stream",
     "text": [
      "\r",
      " 73%|███████▎  | 73/100 [00:16<00:06,  4.42it/s]"
     ]
    },
    {
     "name": "stdout",
     "output_type": "stream",
     "text": [
      "<__main__.Healthy object at 0x7f7f3ec7ada0>\n"
     ]
    },
    {
     "name": "stderr",
     "output_type": "stream",
     "text": [
      "\r",
      " 74%|███████▍  | 74/100 [00:17<00:05,  4.37it/s]"
     ]
    },
    {
     "name": "stdout",
     "output_type": "stream",
     "text": [
      "<__main__.Healthy object at 0x7f7f3ec7ada0>\n"
     ]
    },
    {
     "name": "stderr",
     "output_type": "stream",
     "text": [
      "\r",
      " 75%|███████▌  | 75/100 [00:17<00:05,  4.39it/s]"
     ]
    },
    {
     "name": "stdout",
     "output_type": "stream",
     "text": [
      "<__main__.Healthy object at 0x7f7f3ec7ada0>\n"
     ]
    },
    {
     "name": "stderr",
     "output_type": "stream",
     "text": [
      "\r",
      " 76%|███████▌  | 76/100 [00:17<00:05,  4.43it/s]"
     ]
    },
    {
     "name": "stdout",
     "output_type": "stream",
     "text": [
      "<__main__.Healthy object at 0x7f7f3ec7ada0>\n"
     ]
    },
    {
     "name": "stderr",
     "output_type": "stream",
     "text": [
      "\r",
      " 77%|███████▋  | 77/100 [00:17<00:05,  4.38it/s]"
     ]
    },
    {
     "name": "stdout",
     "output_type": "stream",
     "text": [
      "<__main__.Healthy object at 0x7f7f3ec7ada0>\n"
     ]
    },
    {
     "name": "stderr",
     "output_type": "stream",
     "text": [
      "\r",
      " 78%|███████▊  | 78/100 [00:18<00:05,  4.27it/s]"
     ]
    },
    {
     "name": "stdout",
     "output_type": "stream",
     "text": [
      "<__main__.Healthy object at 0x7f7f3ec7ada0>\n"
     ]
    },
    {
     "name": "stderr",
     "output_type": "stream",
     "text": [
      "\r",
      " 79%|███████▉  | 79/100 [00:18<00:04,  4.32it/s]"
     ]
    },
    {
     "name": "stdout",
     "output_type": "stream",
     "text": [
      "<__main__.Healthy object at 0x7f7f3ec7ada0>\n"
     ]
    },
    {
     "name": "stderr",
     "output_type": "stream",
     "text": [
      "\r",
      " 80%|████████  | 80/100 [00:18<00:04,  4.35it/s]"
     ]
    },
    {
     "name": "stdout",
     "output_type": "stream",
     "text": [
      "<__main__.Healthy object at 0x7f7f3ec7ada0>\n"
     ]
    },
    {
     "name": "stderr",
     "output_type": "stream",
     "text": [
      "\r",
      " 81%|████████  | 81/100 [00:18<00:04,  4.37it/s]"
     ]
    },
    {
     "name": "stdout",
     "output_type": "stream",
     "text": [
      "<__main__.Healthy object at 0x7f7f3ec7ada0>\n"
     ]
    },
    {
     "name": "stderr",
     "output_type": "stream",
     "text": [
      "\r",
      " 82%|████████▏ | 82/100 [00:18<00:04,  4.40it/s]"
     ]
    },
    {
     "name": "stdout",
     "output_type": "stream",
     "text": [
      "<__main__.Healthy object at 0x7f7f3ec7ada0>\n"
     ]
    },
    {
     "name": "stderr",
     "output_type": "stream",
     "text": [
      "\r",
      " 83%|████████▎ | 83/100 [00:19<00:03,  4.31it/s]"
     ]
    },
    {
     "name": "stdout",
     "output_type": "stream",
     "text": [
      "<__main__.Healthy object at 0x7f7f3ec7ada0>\n"
     ]
    },
    {
     "name": "stderr",
     "output_type": "stream",
     "text": [
      "\r",
      " 84%|████████▍ | 84/100 [00:19<00:03,  4.29it/s]"
     ]
    },
    {
     "name": "stdout",
     "output_type": "stream",
     "text": [
      "<__main__.Healthy object at 0x7f7f3ec7ada0>\n"
     ]
    },
    {
     "name": "stderr",
     "output_type": "stream",
     "text": [
      "\r",
      " 85%|████████▌ | 85/100 [00:19<00:03,  4.35it/s]"
     ]
    },
    {
     "name": "stdout",
     "output_type": "stream",
     "text": [
      "<__main__.Healthy object at 0x7f7f3ec7ada0>\n"
     ]
    },
    {
     "name": "stderr",
     "output_type": "stream",
     "text": [
      "\r",
      " 86%|████████▌ | 86/100 [00:19<00:03,  4.35it/s]"
     ]
    },
    {
     "name": "stdout",
     "output_type": "stream",
     "text": [
      "<__main__.Healthy object at 0x7f7f3ec7ada0>\n"
     ]
    },
    {
     "name": "stderr",
     "output_type": "stream",
     "text": [
      "\r",
      " 87%|████████▋ | 87/100 [00:20<00:03,  4.28it/s]"
     ]
    },
    {
     "name": "stdout",
     "output_type": "stream",
     "text": [
      "<__main__.Healthy object at 0x7f7f3ec7ada0>\n"
     ]
    },
    {
     "name": "stderr",
     "output_type": "stream",
     "text": [
      "\r",
      " 88%|████████▊ | 88/100 [00:20<00:02,  4.11it/s]"
     ]
    },
    {
     "name": "stdout",
     "output_type": "stream",
     "text": [
      "<__main__.Healthy object at 0x7f7f3ec7ada0>\n"
     ]
    },
    {
     "name": "stderr",
     "output_type": "stream",
     "text": [
      "\r",
      " 89%|████████▉ | 89/100 [00:20<00:02,  4.03it/s]"
     ]
    },
    {
     "name": "stdout",
     "output_type": "stream",
     "text": [
      "<__main__.Healthy object at 0x7f7f3ec7ada0>\n"
     ]
    },
    {
     "name": "stderr",
     "output_type": "stream",
     "text": [
      "\r",
      " 90%|█████████ | 90/100 [00:20<00:02,  4.00it/s]"
     ]
    },
    {
     "name": "stdout",
     "output_type": "stream",
     "text": [
      "<__main__.Healthy object at 0x7f7f3ec7ada0>\n"
     ]
    },
    {
     "name": "stderr",
     "output_type": "stream",
     "text": [
      "\r",
      " 91%|█████████ | 91/100 [00:21<00:02,  3.85it/s]"
     ]
    },
    {
     "name": "stdout",
     "output_type": "stream",
     "text": [
      "<__main__.Healthy object at 0x7f7f3ec7ada0>\n"
     ]
    },
    {
     "name": "stderr",
     "output_type": "stream",
     "text": [
      "\r",
      " 92%|█████████▏| 92/100 [00:21<00:02,  3.95it/s]"
     ]
    },
    {
     "name": "stdout",
     "output_type": "stream",
     "text": [
      "<__main__.Healthy object at 0x7f7f3ec7ada0>\n"
     ]
    },
    {
     "name": "stderr",
     "output_type": "stream",
     "text": [
      "\r",
      " 93%|█████████▎| 93/100 [00:21<00:01,  4.06it/s]"
     ]
    },
    {
     "name": "stdout",
     "output_type": "stream",
     "text": [
      "<__main__.Healthy object at 0x7f7f3ec7ada0>\n"
     ]
    },
    {
     "name": "stderr",
     "output_type": "stream",
     "text": [
      "\r",
      " 94%|█████████▍| 94/100 [00:21<00:01,  4.10it/s]"
     ]
    },
    {
     "name": "stdout",
     "output_type": "stream",
     "text": [
      "<__main__.Healthy object at 0x7f7f3ec7ada0>\n"
     ]
    },
    {
     "name": "stderr",
     "output_type": "stream",
     "text": [
      "\r",
      " 95%|█████████▌| 95/100 [00:22<00:01,  4.04it/s]"
     ]
    },
    {
     "name": "stdout",
     "output_type": "stream",
     "text": [
      "<__main__.Healthy object at 0x7f7f3ec7ada0>\n"
     ]
    },
    {
     "name": "stderr",
     "output_type": "stream",
     "text": [
      "\r",
      " 96%|█████████▌| 96/100 [00:22<00:01,  3.96it/s]"
     ]
    },
    {
     "name": "stdout",
     "output_type": "stream",
     "text": [
      "<__main__.Healthy object at 0x7f7f3ec7ada0>\n"
     ]
    },
    {
     "name": "stderr",
     "output_type": "stream",
     "text": [
      "\r",
      " 97%|█████████▋| 97/100 [00:22<00:00,  4.06it/s]"
     ]
    },
    {
     "name": "stdout",
     "output_type": "stream",
     "text": [
      "<__main__.Healthy object at 0x7f7f3ec7ada0>\n"
     ]
    },
    {
     "name": "stderr",
     "output_type": "stream",
     "text": [
      "\r",
      " 98%|█████████▊| 98/100 [00:22<00:00,  3.90it/s]"
     ]
    },
    {
     "name": "stdout",
     "output_type": "stream",
     "text": [
      "<__main__.Healthy object at 0x7f7f3ec7ada0>\n"
     ]
    },
    {
     "name": "stderr",
     "output_type": "stream",
     "text": [
      "\r",
      " 99%|█████████▉| 99/100 [00:23<00:00,  3.94it/s]"
     ]
    },
    {
     "name": "stdout",
     "output_type": "stream",
     "text": [
      "<__main__.Healthy object at 0x7f7f3ec7ada0>\n"
     ]
    },
    {
     "name": "stderr",
     "output_type": "stream",
     "text": [
      "100%|██████████| 100/100 [00:23<00:00,  4.28it/s]"
     ]
    },
    {
     "name": "stdout",
     "output_type": "stream",
     "text": [
      "<__main__.Healthy object at 0x7f7f3ec7ada0>\n"
     ]
    },
    {
     "name": "stderr",
     "output_type": "stream",
     "text": [
      "\n"
     ]
    }
   ],
   "source": [
    "context = initialize()\n",
    "\n",
    "for day in tqdm.tqdm(range(100)):\n",
    "    simulate_day(context)"
   ]
  },
  {
   "cell_type": "code",
   "execution_count": null,
   "metadata": {},
   "outputs": [],
   "source": []
  }
 ],
 "metadata": {
  "kernelspec": {
   "display_name": "Python 3",
   "language": "python",
   "name": "python3"
  },
  "language_info": {
   "codemirror_mode": {
    "name": "ipython",
    "version": 3
   },
   "file_extension": ".py",
   "mimetype": "text/x-python",
   "name": "python",
   "nbconvert_exporter": "python",
   "pygments_lexer": "ipython3",
   "version": "3.6.9"
  }
 },
 "nbformat": 4,
 "nbformat_minor": 2
}
